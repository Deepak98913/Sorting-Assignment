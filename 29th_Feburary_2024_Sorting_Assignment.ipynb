{
 "cells": [
  {
   "cell_type": "code",
   "execution_count": 1,
   "id": "e64e340a-47c6-444d-8266-2d8431d9ecc0",
   "metadata": {},
   "outputs": [
    {
     "name": "stdout",
     "output_type": "stream",
     "text": [
      "Element with maximym occurrences: 2\n"
     ]
    }
   ],
   "source": [
    "# 1.Given an array of n numbers, give an algorithm which gives the element appearing maximum number of times ?\n",
    "\n",
    "def max_occurrence(arr):\n",
    "    count_map = {}  # Dictionary to store the count of each element\n",
    "    \n",
    "    #Iterate through the array and count occurence\n",
    "    for num in arr:\n",
    "        if num in count_map:\n",
    "            count_map[num] += 1\n",
    "        else:\n",
    "            count_map[num] = 1\n",
    "            \n",
    "    max_count = max(count_map.values())  #Find the maximum element\n",
    "    #Find the elemnet with maximum count\n",
    "    max_element = max(count_map, key=count_map.get)\n",
    "    \n",
    "    return max_element\n",
    "\n",
    "arr = [1,2,3,4,4,5,6,2,3,4,2,2]\n",
    "print(\"Element with maximym occurrences:\", max_occurrence(arr))"
   ]
  },
  {
   "cell_type": "code",
   "execution_count": 3,
   "id": "08e01ffe-bb13-4490-b7a9-f0151413de79",
   "metadata": {},
   "outputs": [
    {
     "name": "stdout",
     "output_type": "stream",
     "text": [
      "The missing number is: 5\n"
     ]
    }
   ],
   "source": [
    "# 2 : We are given a list of n-1 integers and these integers are in the range of 1 to n . There are not duplicates in the list. One of the integers is missing in the list. Give an algorithm to find that element Ex:\n",
    "#.   [1,2,4,6,3,7,8] 5 is the missing num.\n",
    "\n",
    "def find_missing_number(nums):\n",
    "    n = len(nums) + 1 # n is the size of the list + 1\n",
    "    expected_sum = n * (n + 1) // 2\n",
    "    actual_sum = sum(nums)\n",
    "    missing_number = expected_sum - actual_sum\n",
    "    return missing_number\n",
    "# Example usage:\n",
    "nums = [1,2,3,4,6,7,8]\n",
    "missing_num = find_missing_number(nums)\n",
    "print(\"The missing number is:\", missing_num)"
   ]
  },
  {
   "cell_type": "code",
   "execution_count": 5,
   "id": "e50a0d7e-5ade-4be5-acfe-d1b02850002d",
   "metadata": {},
   "outputs": [
    {
     "name": "stdout",
     "output_type": "stream",
     "text": [
      "The number occurring odd number of times is: 3\n"
     ]
    }
   ],
   "source": [
    "# 3. Given an array of n positive numbers. All numbers occurs even number of times except 1 which occurs odd number of times. \n",
    "#.  Find that number in O(n) time and O(1) space. Ex: [1,2,3,2,3,1,3]. 3 is repeats odd\n",
    "\n",
    "def find_odd_occurrence(arr):\n",
    "    result = 0\n",
    "    \n",
    "    # Perform XOR of all elements in the array\n",
    "    for num in arr:\n",
    "        result ^= num\n",
    "    return result\n",
    "\n",
    "arr = [1,2,3,2,3,1,3]\n",
    "odd_occurrence = find_odd_occurrence(arr)\n",
    "print(\"The number occurring odd number of times is:\", odd_occurrence)"
   ]
  },
  {
   "cell_type": "code",
   "execution_count": 6,
   "id": "252701fd-a8eb-4548-ab6b-9c5798b4bd58",
   "metadata": {},
   "outputs": [
    {
     "name": "stdout",
     "output_type": "stream",
     "text": [
      "Pair with sum 10 : (2, 8)\n"
     ]
    }
   ],
   "source": [
    "# 4 Given an array of n elements. Find two elements in the array such that their sum is equal to given element K.\n",
    "\n",
    "def find_pair_with_sum(arr,K):\n",
    "    arr.sort() # Sort the array in non-decreasing order\n",
    "    left = 0\n",
    "    right = len(arr) - 1\n",
    "    \n",
    "    while left < right:\n",
    "        current_sum = arr[left] + arr[right]\n",
    "        if current_sum == K:\n",
    "            return (arr[left], arr[right])\n",
    "        elif current_sum < K:\n",
    "            left += 1\n",
    "        else:\n",
    "            right -= 1\n",
    "    return None  # No such pair found\n",
    "\n",
    "# Example usage:\n",
    "arr = [1,2,4,6,3,7,8]\n",
    "K = 10\n",
    "pair = find_pair_with_sum(arr, K)\n",
    "if pair:\n",
    "    print(\"Pair with sum\", K, \":\", pair)\n",
    "else:\n",
    "    print(\"No pair found with sum\", K)"
   ]
  },
  {
   "cell_type": "code",
   "execution_count": 7,
   "id": "165a558a-b602-4001-a3ca-a5072d1ee248",
   "metadata": {},
   "outputs": [
    {
     "name": "stdout",
     "output_type": "stream",
     "text": [
      "Pair with sum closest to 0: (-80, 85)\n"
     ]
    }
   ],
   "source": [
    "# 5. Given an array of both positive and negative numbers, find two numbers such that their sum is closest to 0. Ex: [ 1 ,60 ,-10, 70, -80,85]. Ans : -80,85.\n",
    "def closest_to_zero(arr):\n",
    "    arr.sort()\n",
    "    left = 0\n",
    "    right = len(arr) -1\n",
    "    closest_sum = float('inf')\n",
    "    result_pair = None\n",
    "    \n",
    "    while left < right:\n",
    "        current_sum = arr[left] + arr[right]\n",
    "        if abs(current_sum) < abs(closest_sum):\n",
    "            closest_sum = current_sum\n",
    "            result_pair = (arr[left], arr[right])\n",
    "            \n",
    "        if current_sum < 0:\n",
    "            left += 1\n",
    "        elif current_sum >0:\n",
    "            right -= 1\n",
    "        else:\n",
    "            return result_pair\n",
    "        \n",
    "    return result_pair\n",
    "\n",
    "arr = [1,60,-10,70,-80,85]\n",
    "pair = closest_to_zero(arr)\n",
    "print(\"Pair with sum closest to 0:\", pair)\n",
    "                                    "
   ]
  },
  {
   "cell_type": "code",
   "execution_count": 9,
   "id": "69fd8387-a3bd-4cc1-b377-e8ff1b07f24f",
   "metadata": {},
   "outputs": [
    {
     "name": "stdout",
     "output_type": "stream",
     "text": [
      "Triplet with sum 22 : (4, 8, 10)\n"
     ]
    }
   ],
   "source": [
    "# 6 Given an array of n elements . Find three elements such that their sum is equal to the given number.\n",
    "def find_triplet_with_sum(arr, target_sum):\n",
    "    arr.sort()\n",
    "    n = len(arr)\n",
    "    for i in range(n-2):\n",
    "        left = i + 1\n",
    "        right = n - 1\n",
    "        while left < right:\n",
    "            current_sum = arr[i] + arr[left] + arr[right]\n",
    "            if current_sum == target_sum:\n",
    "                return (arr[i], arr[left], arr[right])\n",
    "            elif current_sum < target_sum:\n",
    "                left += 1\n",
    "            else:\n",
    "                right -= 1\n",
    "    return None\n",
    "\n",
    "arr = [1,4,45,6,10,8]\n",
    "target_sum = 22\n",
    "triplet = find_triplet_with_sum(arr, target_sum)\n",
    "if triplet:\n",
    "    print(\"Triplet with sum\", target_sum,\":\", triplet)\n",
    "    \n",
    "else:\n",
    "    print(\"No triplet fount with sum\", target_sum)"
   ]
  },
  {
   "cell_type": "code",
   "execution_count": 11,
   "id": "e04f7673-d9f6-44d1-b45f-aa74bda70ebc",
   "metadata": {},
   "outputs": [
    {
     "name": "stdout",
     "output_type": "stream",
     "text": [
      "Triplet fount: (3, 4, 5)\n"
     ]
    }
   ],
   "source": [
    "# 7. Given an array of n elements . Find three elements i, j, k in the array such that i * i + j * j = k*k.\n",
    "def find_triplet_pythagorean(arr):\n",
    "    arr.sort()\n",
    "    n = len(arr)\n",
    "    for k in range(2, n):\n",
    "        i = 0\n",
    "        j = k - 1\n",
    "        while i < j:\n",
    "            sum_of_squares = arr[i] * arr[i] + arr[j] * arr[j]\n",
    "            if sum_of_squares == arr[k] * arr[k]:\n",
    "                return (arr[i], arr[j], arr[k])\n",
    "            elif sum_of_squares < arr[k] * arr[k]:\n",
    "                i += 1\n",
    "            else:\n",
    "                j -= 1\n",
    "    return None\n",
    "\n",
    "arr = [3,1,4,6,5]\n",
    "triplet = find_triplet_pythagorean(arr)\n",
    "if triplet:\n",
    "    print(\"Triplet fount:\",triplet)\n",
    "else:\n",
    "    print(\"No triplet found.\")"
   ]
  },
  {
   "cell_type": "code",
   "execution_count": 14,
   "id": "9ffbf35d-3917-43e7-b081-58f9acec34ab",
   "metadata": {},
   "outputs": [
    {
     "name": "stdout",
     "output_type": "stream",
     "text": [
      "Majority element: 4\n"
     ]
    }
   ],
   "source": [
    "# 8. An element is a majority if it appears more than n/2 times. Give an algorithm takes an array of n element as argument and identifies a majority (if it exists).\n",
    "def find_majority_element(arr):\n",
    "    candidate = None\n",
    "    count = 0\n",
    "    \n",
    "    # Find potential candidate\n",
    "    for num in arr:\n",
    "        if count == 0:\n",
    "            candidate = num\n",
    "            count = 1\n",
    "        elif num == candidate:\n",
    "            count += 1\n",
    "        else:\n",
    "            count -= 1\n",
    "    \n",
    "    # Check if candidate is majority element\n",
    "    count_candidate = sum(1 for num in arr if num == candidate)\n",
    "    if count_candidate > len(arr) / 2:\n",
    "        return candidate\n",
    "    else:\n",
    "        return None\n",
    "    \n",
    "arr = [3,3,4,2,4,4,2,4,4]\n",
    "majority_element = find_majority_element(arr)\n",
    "if majority_element is not None:\n",
    "    print(\"Majority element:\", majority_element)\n",
    "else:\n",
    "    print(\"No majority element found.\")\n",
    "    \n",
    "# This algorithm has a time complexity of O(n) and a space complexity of O(1), making it efficient in terms of both time and space."
   ]
  },
  {
   "cell_type": "code",
   "execution_count": 17,
   "id": "c63f567c-c93f-4e41-ae96-a1ad0de654ee",
   "metadata": {},
   "outputs": [
    {
     "name": "stdout",
     "output_type": "stream",
     "text": [
      "Row with maximum number of zeros: 3\n"
     ]
    }
   ],
   "source": [
    "# 9. Given n × n matrix, and in each row all 1’s are followed by 0’s. Find the row with the maximum number of 0’s\n",
    "\n",
    "def find_row_with_max_zeros(matrix):\n",
    "    max_row = -1\n",
    "    max_zeros = -1\n",
    "\n",
    "    for i, row in enumerate(matrix):\n",
    "        left, right = 0, len(row) - 1\n",
    "        while left <= right:\n",
    "            mid = left + (right - left) // 2\n",
    "            if row[mid] == 0:\n",
    "                right = mid - 1\n",
    "            else:\n",
    "                left = mid + 1\n",
    "        zeros_count = len(row) - left\n",
    "        if zeros_count > max_zeros:\n",
    "            max_zeros = zeros_count\n",
    "            max_row = i\n",
    "    \n",
    "    return max_row\n",
    "\n",
    "# Example usage:\n",
    "matrix = [\n",
    "    [1, 1, 1, 0, 0],\n",
    "    [1, 1, 0, 0, 0],\n",
    "    [1, 1, 1, 1, 0],\n",
    "    [1, 0, 0, 0, 0],\n",
    "    [1, 1, 1, 1, 1]\n",
    "]\n",
    "max_zeros_row = find_row_with_max_zeros(matrix)\n",
    "print(\"Row with maximum number of zeros:\", max_zeros_row)\n"
   ]
  },
  {
   "cell_type": "code",
   "execution_count": 19,
   "id": "cfaa8795-8e2f-4da3-a139-3c61af0d3826",
   "metadata": {},
   "outputs": [
    {
     "name": "stdout",
     "output_type": "stream",
     "text": [
      "Sorted array: [0, 0, 0, 0, 0, 1, 1, 1, 1, 1, 2, 2]\n"
     ]
    }
   ],
   "source": [
    "# 10. : Sort an array of 0’s, 1’s and 2’s [or R’s, G’s and B’s]: Given an array A[] consisting of 0’s, 1’s and 2’s, give an algorithm for sorting A[].The algorithm should put all 0’s first, then all 1’s and finally all 2’s at the\n",
    "#    end. Example Input = {0,1,1,0,1,2,1,2,0,0,0,1}, Output = {0,0,0,0,0,1,1,1,1,1,2,2}\n",
    "\n",
    "def sort_012(arr):\n",
    "    low = 0\n",
    "    mid = 0\n",
    "    high = len(arr) - 1\n",
    "    \n",
    "    while mid <= high:\n",
    "        if arr[mid] == 0:\n",
    "            arr[low], arr[mid] = arr[mid], arr[low]\n",
    "            low += 1\n",
    "            mid += 1\n",
    "        elif arr[mid] == 1:\n",
    "            mid += 1\n",
    "        else:\n",
    "            arr[mid], arr[high] = arr[high], arr[mid]\n",
    "            high -= 1\n",
    "            \n",
    "    return arr\n",
    "\n",
    "arr = [0,1,1,0,1,2,1,2,0,0,0,1]\n",
    "sorted_arr = sort_012(arr)\n",
    "print(\"Sorted array:\", sorted_arr)                           "
   ]
  },
  {
   "cell_type": "code",
   "execution_count": null,
   "id": "dcd7cf8d-8428-43b2-aa20-c534e4a58449",
   "metadata": {},
   "outputs": [],
   "source": []
  }
 ],
 "metadata": {
  "kernelspec": {
   "display_name": "Python 3 (ipykernel)",
   "language": "python",
   "name": "python3"
  },
  "language_info": {
   "codemirror_mode": {
    "name": "ipython",
    "version": 3
   },
   "file_extension": ".py",
   "mimetype": "text/x-python",
   "name": "python",
   "nbconvert_exporter": "python",
   "pygments_lexer": "ipython3",
   "version": "3.10.8"
  }
 },
 "nbformat": 4,
 "nbformat_minor": 5
}
